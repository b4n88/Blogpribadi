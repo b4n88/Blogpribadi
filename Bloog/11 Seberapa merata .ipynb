{
  "cells": [
    {
      "cell_type": "raw",
      "metadata": {},
      "source": [
        "---\n",
        "title: \"PEMERATAAN\"\n",
        "image: 11 fp.jpg\n",
        "author: \"Albani, Ikang\"\n",
        "date: \"2025-01-07\"\n",
        "categories: [Data Analyst, Market Research]\n",
        "---"
      ],
      "id": "25588899"
    },
    {
      "cell_type": "markdown",
      "metadata": {},
      "source": [
        "> *Menentukan apakah pemerataan sudah terjadi ?? Contoh : Dokter gigi dari Pak Ikang*\n",
        "\n",
        "-------\n",
        "\n",
        "Salah satu resolusi saya di tahun 2025 adalah membuat 1 analisa perhari. Entah itu receh atau hard yg penting 1 harus ada saya upload di blog pribadi saya ini. Sekrang sudah pukul 13.14 waktu setempat saya, ngantuk dan mata lelah membuat saya melakukan inkonsistensi atas resolusi saya. Ditambah ketika saya pulang kerja saya kehujanan yang luamayan cukup deras. saya coba menguatkan diri..\n",
        "\n",
        "Membaca tulisan pak Ikang tentang pemerataan, beliau menuliskan tentang apakah [dokter di Indonesia cukup merata?](https://ikanx101.com/blog/dokter-merata/). Melihat penjelasannya saya berfikir apakah menggunakan teknik atau persamaan matematika yang saya tidak ketahui atau apa? ternyata ini membuat saya terheran heran. Bagimana tidak beliau menjelaskan tidak dengan komputasi yang sangat rumit atau mencoba menyelesaikan dengan persamaan kalkulus.\n",
        "\n",
        "**Perhatikan gambar berikut :**\n",
        "\n",
        "![Dari web Pak Ikang](11 a.png)\n",
        "\n",
        "Menarik bukan? hanya dengan menggunakan diagram bar horizontal kita bisa membaca bahwa dokter diindonesia tidak merata hahaha.. Setelah saya fikir fikir, kita harus bisa melihat apakah suatu pemerataan terhadi disuatu tempat? tidak perlu menghitung logaritma, namun dengan bar seperti demikian.\n",
        "\n",
        "Saya melakukan percobaanya menggunakan `python` tentu saja saya mendapatkan insight baru kembali, yaitu tentang pembuatan plot hahaha,,,\n"
      ],
      "id": "fab4eba7"
    },
    {
      "cell_type": "code",
      "metadata": {},
      "source": [
        "import pandas as pd\n",
        "import matplotlib.pyplot as plt\n",
        "import seaborn as sns\n",
        "import numpy as np\n",
        "\n",
        "# Data Contoh (Gantilah dengan data Anda)\n",
        "data = {\n",
        "    'Kabupaten/Kota': ['Kota Jakarta Timur', 'Kota Jakarta Selatan', 'Kota Surabaya', 'Maybrat', 'Pegunungan Arfak'],\n",
        "    'Jumlah Dokter Umum': [1500, 1450, 1300, 10, 15]\n",
        "}\n",
        "\n",
        "df = pd.DataFrame(data)\n",
        "\n",
        "# Mengurutkan data berdasarkan jumlah dokter\n",
        "df = df.sort_values(by='Jumlah Dokter Umum', ascending=False)\n",
        "\n",
        "# Hitung Mean dan Median\n",
        "mean = df['Jumlah Dokter Umum'].mean()\n",
        "median = df['Jumlah Dokter Umum'].median()\n",
        "\n",
        "# Plotting\n",
        "plt.figure(figsize=(10, 15))\n",
        "sns.barplot(\n",
        "    y='Kabupaten/Kota',\n",
        "    x='Jumlah Dokter Umum',\n",
        "    data=df,\n",
        "    palette='Blues_d'\n",
        ")\n",
        "\n",
        "# Garis untuk Mean dan Median\n",
        "plt.axvline(mean, color='red', linestyle='-', label=f'Mean = {int(mean)}')\n",
        "plt.axvline(median, color='green', linestyle='-', label=f'Median = {int(median)}')\n",
        "\n",
        "# Tambahkan label teks untuk mean dan median\n",
        "plt.text(mean + 5, len(df) - 1, f'Mean = {int(mean)}', color='red', fontsize=10)\n",
        "plt.text(median + 5, len(df) - 1, f'Median = {int(median)}', color='green', fontsize=10)\n",
        "\n",
        "# Judul dan Label\n",
        "plt.title('Top vs Bottom Kabupaten/Kota - Jumlah Dokter Umum')\n",
        "plt.xlabel('Jumlah Dokter Umum')\n",
        "plt.ylabel('Kabupaten/Kota')\n",
        "\n",
        "# Legenda\n",
        "plt.legend()\n",
        "\n",
        "# Sumber\n",
        "plt.text(0, -1, 'Sumber: Kemenkes\\nVisualized using Python', fontsize=8)\n",
        "\n",
        "# Tampilkan Grafik\n",
        "plt.tight_layout()\n",
        "plt.show()"
      ],
      "id": "11b492db",
      "execution_count": null,
      "outputs": []
    },
    {
      "cell_type": "markdown",
      "metadata": {},
      "source": [
        "Dengan mendapatkan sintaks membuat garis yaitu `plt.axvline(Mean, color='red', linestyle='-', label=f'Mean = {int(mean)}'))`\n",
        "\n",
        "> Analisa ini bukan hanya untuk dokter, tapi bisa untuk segala jenis aspek apakah ada pemerataan atau tidak hahaha..."
      ],
      "id": "27285800"
    }
  ],
  "metadata": {
    "kernelspec": {
      "name": "python3",
      "language": "python",
      "display_name": "Python 3 (ipykernel)"
    }
  },
  "nbformat": 4,
  "nbformat_minor": 5
}